{
 "cells": [
  {
   "cell_type": "markdown",
   "metadata": {},
   "source": [
    "242. Valid Anagram\n",
    "\n",
    "An Anagram is a word or phrase formed by rearranging the letters of a different word or phrase, typically using all the original letters exactly once.\n",
    "\n",
    "Example 1:\n",
    "\n",
    "Input: s = \"anagram\", t = \"nagaram\"\n",
    "Output: true\n",
    "Example 2:\n",
    "\n",
    "Input: s = \"rat\", t = \"car\"\n",
    "Output: false\n"
   ]
  },
  {
   "cell_type": "code",
   "execution_count": 3,
   "metadata": {},
   "outputs": [
    {
     "name": "stdout",
     "output_type": "stream",
     "text": [
      "True\n"
     ]
    }
   ],
   "source": [
    "#Basic Solution \n",
    "#sorting \n",
    "\n",
    "#Solution 1 convert string to set and compare\n",
    "class Solution:\n",
    "    def isAnagram(self, s: str, t: str) -> bool:\n",
    "        return sorted(s) == sorted(t)\n",
    "    \n",
    "solution = Solution()\n",
    "\n",
    "s = \"anagram\"\n",
    "t = \"nagaram\"\n",
    "result = solution.isAnagram(s,t)\n",
    "print(result)\n",
    "\n",
    "#Time Complexity O(1)\n",
    "\n",
    "#"
   ]
  },
  {
   "cell_type": "code",
   "execution_count": 4,
   "metadata": {},
   "outputs": [
    {
     "ename": "SyntaxError",
     "evalue": "invalid syntax (2528295647.py, line 4)",
     "output_type": "error",
     "traceback": [
      "\u001b[1;36m  Cell \u001b[1;32mIn[4], line 4\u001b[1;36m\u001b[0m\n\u001b[1;33m    return set(s) == set(t):\u001b[0m\n\u001b[1;37m                           ^\u001b[0m\n\u001b[1;31mSyntaxError\u001b[0m\u001b[1;31m:\u001b[0m invalid syntax\n"
     ]
    }
   ],
   "source": [
    "#Solution 1 convert string to set and compare\n",
    "class Solution:\n",
    "    def isAnagram(self, s: str, t: str) -> bool:\n",
    "        return set(s) == set(t):\n",
    "\n",
    "solution = Solution()\n",
    "\n",
    "s = \"anagram\"\n",
    "t = \"nagaram\"\n",
    "result = solution.isAnagram(s,t)\n",
    "print(result)\n",
    "\n",
    "#Time Complexity O(1)\n"
   ]
  },
  {
   "cell_type": "code",
   "execution_count": null,
   "metadata": {},
   "outputs": [
    {
     "name": "stdout",
     "output_type": "stream",
     "text": [
      "True\n"
     ]
    }
   ],
   "source": [
    "#This solution may find problems with duplicates though\n",
    "s = \"cat\"\n",
    "t = \"caat\"\n",
    "result = solution.isAnagram(s,t)\n",
    "print(result)"
   ]
  },
  {
   "cell_type": "code",
   "execution_count": null,
   "metadata": {},
   "outputs": [
    {
     "name": "stdout",
     "output_type": "stream",
     "text": [
      "True\n",
      "False\n"
     ]
    }
   ],
   "source": [
    "#Optimising for duplicates \n",
    "#convert string to dictionary and compare dictionaries\n",
    "class Solution:\n",
    "    def string_to_dict(string_to_convert):\n",
    "        dict = {}\n",
    "        for i in string_to_convert:\n",
    "            if i in dict :\n",
    "                dict[i] = dict[i] + 1\n",
    "            else:\n",
    "                dict[i] = 1\n",
    "        return dict\n",
    "\n",
    "    def isAnagram(self, s: str, t: str) -> bool:\n",
    "        return string_to_dict(s) == string_to_dict(t)\n",
    "    \n",
    "    \n",
    "solution = Solution()\n",
    "\n",
    "s = \"anagram\"\n",
    "t = \"nagaram\"\n",
    "result = solution.isAnagram(s,t)\n",
    "print(result)\n",
    "#-------------------------------------\n",
    "#checks for length aswell and retuns false for this string\n",
    "s = \"cat\"\n",
    "t = \"caat\"\n",
    "result = solution.isAnagram(s,t)\n",
    "print(result)\n",
    "#ET Voila \n",
    "#Time Complexity O(n)\n"
   ]
  },
  {
   "cell_type": "code",
   "execution_count": null,
   "metadata": {},
   "outputs": [
    {
     "name": "stdout",
     "output_type": "stream",
     "text": [
      "True\n"
     ]
    }
   ],
   "source": [
    "#Using Prebuilt Counter from Collections\n",
    "from collections import Counter\n",
    "\n",
    "class Solution:\n",
    "    def isAnagram(self, s: str, t: str) -> bool:\n",
    "        return Counter(s) == Counter(t)\n",
    "\n",
    "solution = Solution()\n",
    "\n",
    "s = \"anagram\"\n",
    "t = \"nagaram\"\n",
    "result = solution.isAnagram(s,t)\n",
    "print(result)\n",
    "\n",
    "#Time Complexity O(1)\n"
   ]
  }
 ],
 "metadata": {
  "kernelspec": {
   "display_name": "Python 3",
   "language": "python",
   "name": "python3"
  },
  "language_info": {
   "codemirror_mode": {
    "name": "ipython",
    "version": 3
   },
   "file_extension": ".py",
   "mimetype": "text/x-python",
   "name": "python",
   "nbconvert_exporter": "python",
   "pygments_lexer": "ipython3",
   "version": "3.12.1"
  }
 },
 "nbformat": 4,
 "nbformat_minor": 2
}
