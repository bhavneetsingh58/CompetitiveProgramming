{
 "cells": [
  {
   "cell_type": "markdown",
   "metadata": {},
   "source": [
    "https://leetcode.com/problems/contains-duplicate/description/\n",
    "-------------------------------------------------------------------\n",
    "\n",
    "217. Contains Duplicate\n",
    "\n",
    "Example 1:\n",
    "\n",
    "Input: nums = [1,2,3,1]\n",
    "Output: true\n",
    "Example 2:\n",
    "\n",
    "Input: nums = [1,2,3,4]\n",
    "Output: false\n",
    "Example 3:\n",
    "\n",
    "Input: nums = [1,1,1,3,3,4,3,2,4,2]\n",
    "Output: true\n",
    " \n",
    "\n",
    "Constraints:\n",
    "\n",
    "1 <= nums.length <= 105\n",
    "-109 <= nums[i] <= 109"
   ]
  },
  {
   "cell_type": "code",
   "execution_count": 67,
   "metadata": {},
   "outputs": [
    {
     "name": "stdout",
     "output_type": "stream",
     "text": [
      "True\n"
     ]
    }
   ],
   "source": [
    "#BruteForce Approach -- O(n2) approach\n",
    "\n",
    "from typing import List\n",
    "\n",
    "class Solution:\n",
    "    def containsDuplicate(self, nums: List[int]) -> bool:\n",
    "        for i in range(0, len(nums)):\n",
    "            for j in range(i + 1, len(nums)):\n",
    "                if nums[i] == nums[j]:\n",
    "                    return True\n",
    "        return False\n",
    "\n",
    "solution = Solution()\n",
    "\n",
    "nums = [1, 2, 3, 1] \n",
    "result = solution.containsDuplicate(nums)\n",
    "print(result)\n",
    "\n",
    "#Time Complexity - O(n^2)\n"
   ]
  },
  {
   "cell_type": "code",
   "execution_count": 33,
   "metadata": {},
   "outputs": [
    {
     "name": "stdout",
     "output_type": "stream",
     "text": [
      "True\n"
     ]
    }
   ],
   "source": [
    "#Sort & Compare \n",
    "\n",
    "from typing import List\n",
    "\n",
    "class Solution:\n",
    "    def containsDuplicate(self, nums: List[int]) -> bool:\n",
    "        nums.sort()\n",
    "        for i in range(0,len(nums)-1):\n",
    "            if nums[i] == nums[i+1] :\n",
    "                return True \n",
    "\n",
    "solution = Solution()\n",
    "\n",
    "nums = [1, 2, 3, 1] \n",
    "result = solution.containsDuplicate(nums)\n",
    "print(result)\n",
    "\n",
    "#Time Complexity - O(n)\n"
   ]
  },
  {
   "cell_type": "code",
   "execution_count": 69,
   "metadata": {},
   "outputs": [
    {
     "name": "stdout",
     "output_type": "stream",
     "text": [
      "True\n"
     ]
    }
   ],
   "source": [
    "#Modifing The Problem a bit to find Duplicates\n",
    "#using HashSet -- can return all duplicates\n",
    "\n",
    "from typing import List\n",
    "\n",
    "class Solution:\n",
    "    def ContainsDuplicate(self, nums: List[int]) -> List[int]:\n",
    "        seen = set()\n",
    "        for num in nums:\n",
    "            if num in seen:\n",
    "                return True\n",
    "            seen.add(num)\n",
    "        return False\n",
    "        \n",
    "solution = Solution()\n",
    "\n",
    "nums = [1, 2, 3, 1] \n",
    "result = solution.ContainsDuplicate(nums)\n",
    "print(result)\n",
    "\n",
    "#Time Complexity O(n)"
   ]
  },
  {
   "cell_type": "code",
   "execution_count": 10,
   "metadata": {},
   "outputs": [
    {
     "name": "stdout",
     "output_type": "stream",
     "text": [
      "[1]\n"
     ]
    }
   ],
   "source": [
    "#Modifing The Problem a bit to find Duplicates\n",
    "#using HashSet -- can return all duplicates\n",
    "\n",
    "from typing import List\n",
    "\n",
    "class Solution:\n",
    "    def FindDuplicate(self, nums: List[int]) -> List[int]:\n",
    "        seen = set()\n",
    "        duplicates = set()\n",
    "        for num in nums:\n",
    "            if num in seen:\n",
    "                duplicates.add(num)\n",
    "            seen.add(num)\n",
    "        return list(duplicates)\n",
    "        \n",
    "solution = Solution()\n",
    "\n",
    "nums = [1, 2, 3,1] \n",
    "result = solution.FindDuplicate(nums)\n",
    "print(result)\n",
    "\n",
    "#Time Complexity O(n)"
   ]
  },
  {
   "cell_type": "code",
   "execution_count": 7,
   "metadata": {},
   "outputs": [
    {
     "name": "stdout",
     "output_type": "stream",
     "text": [
      "False\n"
     ]
    }
   ],
   "source": [
    "from collections import Counter \n",
    "\n",
    "nums = [1, 2, 3, 1] \n",
    "counted = Counter(nums)\n",
    "#counted\n",
    "\n",
    "for x in counted.values():\n",
    "    if x > 1:\n",
    "        print(False)"
   ]
  }
 ],
 "metadata": {
  "kernelspec": {
   "display_name": "Python 3",
   "language": "python",
   "name": "python3"
  },
  "language_info": {
   "codemirror_mode": {
    "name": "ipython",
    "version": 3
   },
   "file_extension": ".py",
   "mimetype": "text/x-python",
   "name": "python",
   "nbconvert_exporter": "python",
   "pygments_lexer": "ipython3",
   "version": "3.12.1"
  }
 },
 "nbformat": 4,
 "nbformat_minor": 2
}
